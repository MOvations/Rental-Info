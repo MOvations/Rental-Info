{
  "nbformat": 4,
  "nbformat_minor": 0,
  "metadata": {
    "colab": {
      "name": "2D_List_of_lists_problem.ipynb",
      "version": "0.3.2",
      "provenance": [],
      "collapsed_sections": [],
      "include_colab_link": true
    },
    "kernelspec": {
      "name": "python3",
      "display_name": "Python 3"
    }
  },
  "cells": [
    {
      "cell_type": "markdown",
      "metadata": {
        "id": "view-in-github",
        "colab_type": "text"
      },
      "source": [
        "<a href=\"https://colab.research.google.com/github/MOvations/files/blob/master/2D_List_of_lists_problem.ipynb\" target=\"_parent\"><img src=\"https://colab.research.google.com/assets/colab-badge.svg\" alt=\"Open In Colab\"/></a>"
      ]
    },
    {
      "metadata": {
        "id": "DNkbeUofv9X0",
        "colab_type": "text"
      },
      "cell_type": "markdown",
      "source": [
        "# 1D pixel array question\n",
        "\n",
        "\n",
        "this is me effing about with a raspi 8x8 display, \\\\\n",
        "dumbed my problem down to this framework, \\\\\n",
        "and curious why things are getting added by 64 when I want to changed them by one\n",
        "\n",
        "I mean, I can *see* why, but I don't get it. "
      ]
    },
    {
      "metadata": {
        "id": "726M8rezv_za",
        "colab_type": "text"
      },
      "cell_type": "markdown",
      "source": [
        "## Source\n",
        "\n",
        "First, I'm playing with a raspberry pi [Sense Hat](https://www.raspberrypi.org/products/sense-hat/)\n",
        "\n",
        "Second, the code I was originally trying to modify can be found [here](https://github.com/RPi-Distro/python-sense-hat/tree/master/examples) \\\\\n",
        "In particular, I was modifying the [rainbow.py file](https://github.com/RPi-Distro/python-sense-hat/blob/master/examples/rainbow.py) \\\\\n",
        "some terrible documentation can be found [here](https://pythonhosted.org/sense-hat/) \\\\\n",
        "\n",
        "\\\\\n",
        "*BUT* I'm pretty sure  this a code problem, and has little to do with the hat\n",
        "\n",
        "## Expectiation\n",
        "\n",
        "    array = [[1,2,3], [1,2,3]... and so on]\n",
        "    \n",
        "will be passed to function 'new_colour' and each pixel RGB value with be modified based on if statements, but for simplicity, I'm just 'incrementing by one' \\\\\n",
        "Thus I would expect:\n",
        "\n",
        "    Out: array = [[2,3,4], [2,3,4]... and so on]\n",
        "    \n",
        " but instead I get:\n",
        " \n",
        "    Out: array = [[65,66,67], [65,66,67]... and so on]\n",
        "    \n",
        "I assume some sort of tuple unpacking or something like that is happening, but I don't know what or the workaround/best practice for doing this... any help / pointers / references would be appreciated."
      ]
    },
    {
      "metadata": {
        "id": "JkKS8EvewEWa",
        "colab_type": "code",
        "colab": {}
      },
      "cell_type": "code",
      "source": [
        "def new_colour(px):\n",
        "  \"\"\" Simple Function that sent an [R,G,B] array\n",
        "   then adds 1 to each pixel element \"\"\"\n",
        "  \n",
        "  # update each pixel elements\n",
        "  px[0] += 1\n",
        "  px[1] += 1\n",
        "  px[2] += 1\n",
        "  \n",
        "  return(px)"
      ],
      "execution_count": 0,
      "outputs": []
    },
    {
      "metadata": {
        "id": "DR713HbuwHMq",
        "colab_type": "code",
        "outputId": "58dea615-5740-48f1-d353-f2555bfce18b",
        "colab": {
          "base_uri": "https://localhost:8080/",
          "height": 56
        }
      },
      "cell_type": "code",
      "source": [
        "a = [1,2,3]  # simple pixel array, meant to define a color e.g. red = [255, 0, 0]\n",
        "e = [0, 0, 0]\n",
        "\n",
        "# define the 8x8 display (a 1D in 2D for an easy visual), \n",
        "pixel = [\n",
        "    a, e, a,a,a,a,a,a,\n",
        "    a,a,a,a,a,a,a,a,\n",
        "    a,a,a,a,a,a,a,a,\n",
        "    a,a,a,a,a,a,a,a,\n",
        "    a,a,a,a,a,a,a,a,\n",
        "    a,a,a,a,a,a,a,a,\n",
        "    a,a,a,a,a,a,a,a,\n",
        "    a,a,a,a,a,a,a,a,\n",
        "]\n",
        "\n",
        "x = 1\n",
        "while x < 2:\n",
        "  for pix in pixel:\n",
        "    new_colour(pix)\n",
        "    #aprint(pix)\n",
        "  print(pixel)\n",
        "  x +=1"
      ],
      "execution_count": 0,
      "outputs": [
        {
          "output_type": "stream",
          "text": [
            "[[64, 65, 66], [1, 1, 1], [64, 65, 66], [64, 65, 66], [64, 65, 66], [64, 65, 66], [64, 65, 66], [64, 65, 66], [64, 65, 66], [64, 65, 66], [64, 65, 66], [64, 65, 66], [64, 65, 66], [64, 65, 66], [64, 65, 66], [64, 65, 66], [64, 65, 66], [64, 65, 66], [64, 65, 66], [64, 65, 66], [64, 65, 66], [64, 65, 66], [64, 65, 66], [64, 65, 66], [64, 65, 66], [64, 65, 66], [64, 65, 66], [64, 65, 66], [64, 65, 66], [64, 65, 66], [64, 65, 66], [64, 65, 66], [64, 65, 66], [64, 65, 66], [64, 65, 66], [64, 65, 66], [64, 65, 66], [64, 65, 66], [64, 65, 66], [64, 65, 66], [64, 65, 66], [64, 65, 66], [64, 65, 66], [64, 65, 66], [64, 65, 66], [64, 65, 66], [64, 65, 66], [64, 65, 66], [64, 65, 66], [64, 65, 66], [64, 65, 66], [64, 65, 66], [64, 65, 66], [64, 65, 66], [64, 65, 66], [64, 65, 66], [64, 65, 66], [64, 65, 66], [64, 65, 66], [64, 65, 66], [64, 65, 66], [64, 65, 66], [64, 65, 66], [64, 65, 66]]\n"
          ],
          "name": "stdout"
        }
      ]
    },
    {
      "metadata": {
        "id": "wHk3F4d-6lV9",
        "colab_type": "text"
      },
      "cell_type": "markdown",
      "source": [
        "# Solution\n",
        "\n",
        "So, I *thought* I found the answer in the second solution to [this](https://stackoverflow.com/questions/13752461/python-how-to-change-values-in-a-list-of-lists) question \\\\\n",
        "\n",
        "There's also the python documentation for [Data Structures](https://docs.python.org/3/tutorial/datastructures.html#nested-list-comprehensions)\n",
        "\n",
        "*BUT* the solution (err problem) lies in defining the graphic of the 8x8 display with variables, in the case 'a = [1, 2, 3]' \\\\\n",
        "as the variable 'a' keeps getting changed as you move through the matrix\n",
        "\n",
        "\n"
      ]
    },
    {
      "metadata": {
        "id": "m8YwXapZwTCg",
        "colab_type": "code",
        "outputId": "44c37f5d-5b37-4a5d-9a02-90aba0fc9630",
        "colab": {
          "base_uri": "https://localhost:8080/",
          "height": 74
        }
      },
      "cell_type": "code",
      "source": [
        "# Doing this again,\n",
        "\n",
        "a = [1,2,3]  # simple pixel array, meant to define a color e.g. red = [255, 0, 0]\n",
        "e = [0, 0, 0]\n",
        "\n",
        "# define the 8x8 display (a 1D in 2D for an easy visual), \n",
        "pixel = [\n",
        "    a, e, a,a,a,a,a,a,\n",
        "    a,a,a,a,a,a,a,a,\n",
        "    a,a,a,a,a,a,a,a,\n",
        "    a,a,a,a,a,a,a,a,\n",
        "    a,a,a,a,a,a,a,a,\n",
        "    a,a,a,a,a,a,a,a,\n",
        "    a,a,a,a,a,a,a,a,\n",
        "    a,a,a,a,a,a,a,a,\n",
        "]\n",
        "\n",
        "#==============================================================================\n",
        "# Now, time fore my favorite game:\n",
        "# SO DOES IT CREATE A NEW OBJECT???\n",
        "#==============================================================================\n",
        "pixels = []\n",
        "# pixels.append(pixel)          #Yes, but \"'int' object is not iterable\"\n",
        "# pixels = copy.deepcopy(pixel) #Nope\n",
        "# pixels = pixel.copy()         #Nope, obviously\n",
        "# pixels = pixel[:]             #Nope\n",
        "# pixels = pixel[:][:]          #Nope\n",
        "\n",
        "# Nesting some loops:           #Yes\n",
        "cell = []\n",
        "pixels = []\n",
        "for i in pixel:\n",
        "  for j in i:\n",
        "    cell.append(int(j))\n",
        "  pixels.append(cell[-3:])\n",
        "  \n",
        "# print(pixels)\n",
        "    \n",
        "x = 1\n",
        "while x < 3:\n",
        "  for pix in pixels:\n",
        "    new_colour(pix)\n",
        "    #aprint(pix)\n",
        "  print(pixels)\n",
        "  x +=1"
      ],
      "execution_count": 0,
      "outputs": [
        {
          "output_type": "stream",
          "text": [
            "[[2, 3, 4], [1, 1, 1], [2, 3, 4], [2, 3, 4], [2, 3, 4], [2, 3, 4], [2, 3, 4], [2, 3, 4], [2, 3, 4], [2, 3, 4], [2, 3, 4], [2, 3, 4], [2, 3, 4], [2, 3, 4], [2, 3, 4], [2, 3, 4], [2, 3, 4], [2, 3, 4], [2, 3, 4], [2, 3, 4], [2, 3, 4], [2, 3, 4], [2, 3, 4], [2, 3, 4], [2, 3, 4], [2, 3, 4], [2, 3, 4], [2, 3, 4], [2, 3, 4], [2, 3, 4], [2, 3, 4], [2, 3, 4], [2, 3, 4], [2, 3, 4], [2, 3, 4], [2, 3, 4], [2, 3, 4], [2, 3, 4], [2, 3, 4], [2, 3, 4], [2, 3, 4], [2, 3, 4], [2, 3, 4], [2, 3, 4], [2, 3, 4], [2, 3, 4], [2, 3, 4], [2, 3, 4], [2, 3, 4], [2, 3, 4], [2, 3, 4], [2, 3, 4], [2, 3, 4], [2, 3, 4], [2, 3, 4], [2, 3, 4], [2, 3, 4], [2, 3, 4], [2, 3, 4], [2, 3, 4], [2, 3, 4], [2, 3, 4], [2, 3, 4], [2, 3, 4]]\n",
            "[[3, 4, 5], [2, 2, 2], [3, 4, 5], [3, 4, 5], [3, 4, 5], [3, 4, 5], [3, 4, 5], [3, 4, 5], [3, 4, 5], [3, 4, 5], [3, 4, 5], [3, 4, 5], [3, 4, 5], [3, 4, 5], [3, 4, 5], [3, 4, 5], [3, 4, 5], [3, 4, 5], [3, 4, 5], [3, 4, 5], [3, 4, 5], [3, 4, 5], [3, 4, 5], [3, 4, 5], [3, 4, 5], [3, 4, 5], [3, 4, 5], [3, 4, 5], [3, 4, 5], [3, 4, 5], [3, 4, 5], [3, 4, 5], [3, 4, 5], [3, 4, 5], [3, 4, 5], [3, 4, 5], [3, 4, 5], [3, 4, 5], [3, 4, 5], [3, 4, 5], [3, 4, 5], [3, 4, 5], [3, 4, 5], [3, 4, 5], [3, 4, 5], [3, 4, 5], [3, 4, 5], [3, 4, 5], [3, 4, 5], [3, 4, 5], [3, 4, 5], [3, 4, 5], [3, 4, 5], [3, 4, 5], [3, 4, 5], [3, 4, 5], [3, 4, 5], [3, 4, 5], [3, 4, 5], [3, 4, 5], [3, 4, 5], [3, 4, 5], [3, 4, 5], [3, 4, 5]]\n"
          ],
          "name": "stdout"
        }
      ]
    },
    {
      "metadata": {
        "id": "STLWMcKiVNMi",
        "colab_type": "code",
        "colab": {}
      },
      "cell_type": "code",
      "source": [
        ""
      ],
      "execution_count": 0,
      "outputs": []
    }
  ]
}